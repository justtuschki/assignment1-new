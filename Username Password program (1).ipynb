{
 "cells": [
  {
   "cell_type": "code",
   "execution_count": 1,
   "metadata": {},
   "outputs": [
    {
     "name": "stdout",
     "output_type": "stream",
     "text": [
      "Hello! Welcome to DIAGNOSTIC CENTRE for COVID19! \n",
      "\n",
      "Username: COVID19\n",
      "Password: pandemo\n",
      "Your Password is Invalid!\n",
      "\n",
      "\n",
      "Username: COVID19\n",
      "Password: PANDEMIC\n",
      "Welcome to DIAGNOSTIC CENTRE for COVID19  ! \n"
     ]
    }
   ],
   "source": [
    "userName = input(\"Hello! Welcome to DIAGNOSTIC CENTRE for COVID19! \\n\\nUsername: \") #Ask's the User for Username input\n",
    "password = input(\"Password: \") # Ask's the user for their password\n",
    "\n",
    "\n",
    "count = 0 # Create a variable, to ensure the user has limited attempts at entering their correct username and password\n",
    "count += 1 # The user has already had one attempt above, therefore count has been incremented by 1 already.\n",
    "\n",
    "\n",
    "while userName == userName and password == password: # The Input will always lead to this while loop, so we can see if their username and password is wrong or correct.\n",
    "\n",
    "\n",
    "    if count == 3: # Counter, to make sure the user only gets a limited number (3)of attempts\n",
    "        print(\"\\nThree Username and Password Attempts used. Goodbye\") # Lets the user know they have reached their limit\n",
    "        break # Leave the Loop and the whole program\n",
    "\n",
    "\n",
    "    elif userName == 'COVID19' and password == 'PANDEMIC': # The userName and password is equal to 'covid19' and 'pandemic', which is correct, they can enter Diagnostic centre!\n",
    "        print(\"Welcome to DIAGNOSTIC CENTRE for COVID19  ! \") # Welcomes the User, the username and password is correct\n",
    "        break # Leave the loop and the whole program as the username and passowrd is correct\n",
    "\n",
    "\n",
    "    elif userName != 'COVID19' and password != 'PANDEMIC': # The userName and password is NOT equal to 'covid19' and 'pandemic', the user cannot enter Diagnostic centre\n",
    "        print(\"Your Username and Password is Invalid!\") # Lets the user know that the Username and password entered is wrong/invalid.\n",
    "        userName = input(\"\\n\\nUsername: \") # Requests the user to have another attempt at entering their correct username\n",
    "        password = input(\"Password: \") # Requests the user to have another attempt at entering their correct password\n",
    "        count += 1 # Increments the count by 1\n",
    "        continue # Continue, as the user hasn't managed to get their username and password correct yet\n",
    "\n",
    "\n",
    "    elif userName == 'COVID19' and password != 'PANDEMIC': # The userName is equal to 'covid19', but password is NOT equal to 'pandemic', the user cannot enter Diagnostic centre\n",
    "        print(\"Your Password is Invalid!\") # Lets the user know that their password is wrong/invalid.\n",
    "        userName = input(\"\\n\\nUsername: \") # Requests the user to have another attempt at entering their correct username\n",
    "        password = input(\"Password: \") # Requests the user to have another attempt at entering their correct password\n",
    "        count += 1 # increments the count by 1\n",
    "        continue # Continue, as the user hasn't managed to get their username and password correct yet\n",
    "\n",
    "\n",
    "    elif userName != 'COVID19' and password == 'PANDEMIC': # The userName is NOT equal to 'covid19', however password is equal to 'pandemic', the user cannot enter Diagnostic centre\n",
    "        print(\"Your Username is Invalid!\") # Lets the user know that their username is wrong/invalid.\n",
    "        userName = input(\"\\n\\nUsername: \") # Requests the user to have another attempt at entering their correct username\n",
    "        password = input(\"Password: \") # Requests the user to have another attempt at entering their correct password\n",
    "        count += 1 # Increments the count by 1\n",
    "        continue # Continue, as the user hasn't managed to get their username and password correct yet"
   ]
  },
  {
   "cell_type": "code",
   "execution_count": null,
   "metadata": {},
   "outputs": [],
   "source": []
  }
 ],
 "metadata": {
  "kernelspec": {
   "display_name": "Python 3",
   "language": "python",
   "name": "python3"
  },
  "language_info": {
   "codemirror_mode": {
    "name": "ipython",
    "version": 3
   },
   "file_extension": ".py",
   "mimetype": "text/x-python",
   "name": "python",
   "nbconvert_exporter": "python",
   "pygments_lexer": "ipython3",
   "version": "3.8.5"
  }
 },
 "nbformat": 4,
 "nbformat_minor": 4
}
